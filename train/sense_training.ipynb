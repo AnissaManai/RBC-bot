{
 "cells": [
  {
   "cell_type": "markdown",
   "metadata": {},
   "source": [
    "#### Import Libraries "
   ]
  },
  {
   "cell_type": "code",
   "execution_count": 33,
   "metadata": {},
   "outputs": [],
   "source": [
    "import h5py\n",
    "import numpy as np\n",
    "import matplotlib.pyplot as plt\n",
    "from sklearn.metrics import accuracy_score\n",
    "from tqdm import tqdm\n",
    "\n",
    "# PyTorch libraries and modules\n",
    "import torch\n",
    "from torch.nn import Linear, ReLU, LeakyReLU, CrossEntropyLoss, Sequential, Conv2d, MaxPool2d, Module, Softmax, BatchNorm2d, Dropout, MSELoss\n",
    "from torch.optim import Adam, SGD"
   ]
  },
  {
   "cell_type": "markdown",
   "metadata": {},
   "source": [
    "#### Split the data"
   ]
  },
  {
   "cell_type": "code",
   "execution_count": 34,
   "metadata": {},
   "outputs": [],
   "source": [
    "from main_config import main_config\n",
    "\n",
    "H5_TRAIN = main_config[\"train_dir\"]\n",
    "H5_VAL = main_config[\"val_dir\"]\n",
    "H5_TEST = main_config[\"test_dir\"]\n",
    "\n",
    "\n",
    "def create_hdf5_generator(file_path, batch_size):\n",
    "    file = h5py.File(file_path)\n",
    "    data_size = file['data'].shape[0]\n",
    "\n",
    "    while True: # loop through the dataset indefinitely\n",
    "        for i in np.arange(0, data_size, batch_size):\n",
    "            data = file['data'][i:i+batch_size]\n",
    "            labels = file['labels'][i:i+batch_size]\n",
    "            # converting data into torch format\n",
    "            data  = torch.from_numpy(data)\n",
    "            # converting the lables into torch format\n",
    "            labels = torch.from_numpy(labels)\n",
    "            yield data, labels\n",
    "\n"
   ]
  },
  {
   "cell_type": "markdown",
   "metadata": {},
   "source": [
    "#### Creating CNN model"
   ]
  },
  {
   "cell_type": "code",
   "execution_count": 35,
   "metadata": {},
   "outputs": [],
   "source": [
    "class Net(Module):   \n",
    "    def __init__(self):\n",
    "        super(Net, self).__init__()\n",
    "\n",
    "        self.cnn_layers = Sequential(\n",
    "            # Defining a 2D convolution layer\n",
    "            Conv2d(21, 32, kernel_size=3, stride=1, padding=1),\n",
    "            BatchNorm2d(32),\n",
    "            LeakyReLU(inplace=True),\n",
    "            # Defining another 2D convolution layer\n",
    "            Conv2d(32, 32, kernel_size=3, stride=1, padding=1),\n",
    "            BatchNorm2d(32),\n",
    "            LeakyReLU(inplace=True)\n",
    "        )\n",
    "\n",
    "        self.linear_layers = Sequential(\n",
    "            Linear(32 * 8 * 8, 37)\n",
    "        )\n",
    "\n",
    "    # Defining the forward pass    \n",
    "    def forward(self, x):\n",
    "        x = self.cnn_layers(x)\n",
    "        x = x.view(x.size(0), -1)\n",
    "        x = self.linear_layers(x)\n",
    "        return x"
   ]
  },
  {
   "cell_type": "markdown",
   "metadata": {},
   "source": [
    "#### Define optimizer and loss function "
   ]
  },
  {
   "cell_type": "code",
   "execution_count": null,
   "metadata": {},
   "outputs": [],
   "source": [
    "# defining the model\n",
    "model = Net()\n",
    "# defining the optimizer\n",
    "optimizer = Adam(model.parameters(), lr=0.07)\n",
    "# defining the loss function\n",
    "criterion = CrossEntropyLoss()\n",
    "# checking if GPU is available\n",
    "if torch.cuda.is_available():\n",
    "    model = model.cuda()\n",
    "    criterion = criterion.cuda()\n",
    "    \n",
    "print(model)"
   ]
  },
  {
   "cell_type": "markdown",
   "metadata": {},
   "source": [
    "#### Training "
   ]
  },
  {
   "cell_type": "code",
   "execution_count": null,
   "metadata": {},
   "outputs": [],
   "source": [
    "import numpy as np\n",
    "import time\n",
    "\n",
    "batch_size = 32\n",
    "\n",
    "train_hdf5_generator = create_hdf5_generator(H5_TRAIN, batch_size)\n",
    "val_hdf5_generator = create_hdf5_generator(H5_VAL, batch_size)\n",
    "\n",
    "epochs = 5\n",
    "min_valid_loss = np.inf\n",
    "\n",
    "train_losses = []\n",
    "val_losses = []\n",
    "\n",
    "for e in range(epochs):\n",
    "    train_loss = 0.0\n",
    "    model.train()\n",
    "    with tqdm(train_hdf5_generator, unit='batch') as tepoch:\n",
    "        for data, labels  in tepoch:\n",
    "            if labels.shape[0] < batch_size: \n",
    "                break\n",
    "            tepoch.set_description(f\"Epoch {e}\")\n",
    "            # labels = labels.to(torch.float32)\n",
    "            labels = labels.to(torch.long)\n",
    "\n",
    "            # converting the data into GPU format\n",
    "            if torch.cuda.is_available():\n",
    "                data, labels = data.cuda(), labels.cuda()\n",
    "\n",
    "            # clearing the Gradients of the model parameters\n",
    "            optimizer.zero_grad()\n",
    "            #prediction\n",
    "            target = model(data)\n",
    "            loss = criterion(target, labels)\n",
    "            loss.backward()\n",
    "            optimizer.step()\n",
    "            train_loss += loss.item()\n",
    "            train_losses.append(loss.item())\n",
    "\n",
    "            tepoch.set_postfix(loss=loss.item())\n",
    "            time.sleep(0.1)\n",
    "\n",
    "    valid_loss = 0.0\n",
    "    model.eval()\n",
    "    with tqdm(val_hdf5_generator, unit='batch') as vepoch:\n",
    "        for data, labels in vepoch:\n",
    "            if labels.shape[0] < batch_size: \n",
    "                break\n",
    "            # labels = labels.to(torch.float32)\n",
    "            labels = labels.to(torch.long)\n",
    "            # converting the data into GPU format\n",
    "            if torch.cuda.is_available():\n",
    "                    data, labels = data.cuda(), labels.cuda()\n",
    "            target = model(data)\n",
    "            loss = criterion(target, labels)\n",
    "            valid_loss = loss.item() * data.size(0)\n",
    "            val_losses.append(loss.item())\n",
    "            tepoch.set_postfix(loss=loss.item())\n",
    "            time.sleep(0.1)\n",
    "    \n",
    "    print(f'Epoch {e+1} \\t\\t Training Loss: {train_loss / batch_size} \\t\\t Validation Loss: {valid_loss / batch_size}')\n",
    "    if min_valid_loss > valid_loss:\n",
    "        print(f'Validation Loss Decreased({min_valid_loss:.6f}--->{valid_loss:.6f}) \\t Saving The Model')\n",
    "        min_valid_loss = valid_loss\n",
    "        # Saving State Dict\n",
    "        torch.save(model.state_dict(), 'saved_model.pth')\n",
    "\n"
   ]
  },
  {
   "cell_type": "code",
   "execution_count": null,
   "metadata": {},
   "outputs": [],
   "source": [
    "# plotting the training and validation loss\n",
    "# plt.plot(train_losses, label='Training loss')\n",
    "# plt.plot(val_losses, label='Validation loss')\n",
    "# plt.legend()\n",
    "# plt.show()"
   ]
  }
 ],
 "metadata": {
  "kernelspec": {
   "display_name": "Python 3 (ipykernel)",
   "language": "python",
   "name": "python3"
  },
  "language_info": {
   "codemirror_mode": {
    "name": "ipython",
    "version": 3
   },
   "file_extension": ".py",
   "mimetype": "text/x-python",
   "name": "python",
   "nbconvert_exporter": "python",
   "pygments_lexer": "ipython3",
   "version": "3.10.4"
  },
  "vscode": {
   "interpreter": {
    "hash": "334571f43833167cff2a32fc3fb1a5df84c2106c1727de884da5357de05be83f"
   }
  }
 },
 "nbformat": 4,
 "nbformat_minor": 2
}
