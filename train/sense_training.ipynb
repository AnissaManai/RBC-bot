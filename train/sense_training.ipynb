{
 "cells": [
  {
   "cell_type": "markdown",
   "metadata": {},
   "source": [
    "#### Import Libraries "
   ]
  },
  {
   "cell_type": "code",
   "execution_count": 1,
   "metadata": {},
   "outputs": [],
   "source": [
    "import os\n",
    "import sys\n",
    "module_path = os.path.abspath(os.path.join('..'))\n",
    "if module_path not in sys.path:\n",
    "    sys.path.append(module_path)"
   ]
  },
  {
   "cell_type": "code",
   "execution_count": 2,
   "metadata": {},
   "outputs": [],
   "source": [
    "from rtpt import RTPT\n",
    "import time\n",
    "import h5py\n",
    "import numpy as np\n",
    "import matplotlib.pyplot as plt\n",
    "from sklearn.metrics import accuracy_score\n",
    "from tqdm.notebook import tqdm\n",
    "\n",
    "# PyTorch libraries and modules\n",
    "import torch\n",
    "import torch.nn as nn\n",
    "import torch.nn.functional as F\n",
    "from torch.nn import CrossEntropyLoss\n",
    "from torch.optim import Adam, SGD\n",
    "\n",
    "from train.main_config import main_config\n",
    "\n",
    "from nn.a0_resnet import AlphaZeroResnet"
   ]
  },
  {
   "cell_type": "markdown",
   "metadata": {},
   "source": [
    "#### Splitting the data"
   ]
  },
  {
   "cell_type": "code",
   "execution_count": 13,
   "metadata": {},
   "outputs": [],
   "source": [
    "H5_TRAIN = main_config[\"train_dir\"]\n",
    "H5_VAL = main_config[\"val_dir\"]\n",
    "H5_TEST = main_config[\"test_dir\"]\n",
    "\n",
    "\n",
    "def create_hdf5_generator(file_path, batch_size):\n",
    "    file = h5py.File(file_path)\n",
    "    data_size = file['data'].shape[0]\n",
    "\n",
    "    while True: # loop through the dataset indefinitely\n",
    "        for i in np.arange(0, data_size, batch_size):\n",
    "            data = file['data'][i:i+batch_size]\n",
    "            labels = file['labels'][i:i+batch_size]\n",
    "            # converting data into torch format\n",
    "            data  = torch.from_numpy(data)\n",
    "            # converting the lables into torch format\n",
    "            labels = torch.from_numpy(labels)\n",
    "            yield data, labels"
   ]
  },
  {
   "cell_type": "markdown",
   "metadata": {},
   "source": [
    "#### Defining Dice Loss "
   ]
  },
  {
   "cell_type": "code",
   "execution_count": 7,
   "metadata": {},
   "outputs": [],
   "source": [
    "def get_sense_plane(sense_square):\n",
    "    \"\"\" \n",
    "    returns e.g. for sense_square 8\n",
    "    [\n",
    "    0, 0, 0, 0, 0, 0, 0, 0\n",
    "    0, 1, 1, 1, 0, 0, 0, 0\n",
    "    0, 1, 1, 1, 0, 0, 0, 0\n",
    "    0, 1, 1, 1, 0, 0, 0, 0\n",
    "    0, 0, 0, 0, 0, 0, 0, 0\n",
    "    0, 0, 0, 0, 0, 0, 0, 0\n",
    "    0, 0, 0, 0, 0, 0, 0, 0\n",
    "    0, 0, 0, 0, 0, 0, 0, 0\n",
    "    ]\n",
    "    \"\"\"\n",
    "    plane = torch.ones(8,8, dtype= torch.float, requires_grad=True)\n",
    "    helper_tensor = torch.zeros(8,8, dtype= torch.float)\n",
    "    if sense_square > 0:\n",
    "        row = torch.div((sense_square - 1), 6).to(torch.long)\n",
    "        col = torch.fmod((sense_square - 1), 6).to(torch.long)\n",
    "        row = 5  - row\n",
    "        for delta_rank in [1, 0, -1]:\n",
    "            for delta_file in [-1, 0, 1]:\n",
    "                helper_tensor[row + 1 + delta_rank][col + 1 + delta_file] = 1\n",
    "\n",
    "    new_plane = plane * helper_tensor\n",
    "\n",
    "    return new_plane.requires_grad(True)\n",
    "\n",
    "\n",
    "class DiceLoss(nn.Module):\n",
    "    def __init__(self):\n",
    "        super(DiceLoss, self).__init__()\n",
    "\n",
    "    def forward(self, inputs, targets, smooth=1):\n",
    "        #flatten label and prediction tensors\n",
    "        _ , inputs = torch.max(inputs, 1)\n",
    "        \n",
    "        new_predicted = torch.empty(64, 8, 8)\n",
    "        new_labels = torch.empty(64, 8, 8)\n",
    "        for i, pos in enumerate(inputs):\n",
    "            sense_plane = get_sense_plane(pos)\n",
    "            new_predicted[i, :, :] = sense_plane\n",
    "        for i, label in enumerate(targets):\n",
    "            sense_plane = get_sense_plane(label)\n",
    "            new_labels[i, :, :] = sense_plane\n",
    "        inputs = new_predicted\n",
    "        targets = new_labels\n",
    "        inputs = inputs.view(-1)\n",
    "        targets = targets.view(-1)\n",
    "        torch.set_printoptions(profile=\"full\")\n",
    "        \n",
    "        intersection = (inputs * targets).sum()   \n",
    "        loss = 1 - (2.*intersection + smooth)/(inputs.sum() + targets.sum() + smooth)  \n",
    "        return  loss"
   ]
  },
  {
   "cell_type": "markdown",
   "metadata": {},
   "source": [
    "##### Defining fit method"
   ]
  },
  {
   "cell_type": "code",
   "execution_count": 14,
   "metadata": {},
   "outputs": [],
   "source": [
    "batch_size = 64\n",
    "\n",
    "train_hdf5_generator = create_hdf5_generator(H5_TRAIN, batch_size)\n",
    "val_hdf5_generator = create_hdf5_generator(H5_VAL, batch_size)\n",
    "\n",
    "\n",
    "def fit(epochs, lr, model, train_loader, val_loader, criterion, opt_func = SGD):\n",
    "    rtpt = RTPT(name_initials='AM', experiment_name='sense-training', max_iterations=epochs)\n",
    "    rtpt.start()\n",
    "    best_val_loss = np.inf\n",
    "    history = []\n",
    "    optimizer = opt_func(model.parameters(), lr, weight_decay=0.01)\n",
    "    for epoch in range(epochs):\n",
    "\n",
    "        model.train()\n",
    "        train_losses = []\n",
    "        with tqdm(train_loader,  unit='batch') as tepoch:\n",
    "            for data, labels in tepoch: \n",
    "                tepoch.set_description(f\"Epoch {epoch}\")\n",
    "                if labels.shape[0] < batch_size or data.shape[0] < batch_size: \n",
    "                    break\n",
    "                labels = labels.to(torch.long)\n",
    "                # converting the data into GPU format\n",
    "                if torch.cuda.is_available():\n",
    "                    data, labels = data.cuda(), labels.cuda()\n",
    "\n",
    "                loss = model.training_step(criterion, data, labels)\n",
    "                train_losses.append(loss)\n",
    "                loss.backward()\n",
    "                optimizer.step()\n",
    "                optimizer.zero_grad()\n",
    "\n",
    "        model.eval()\n",
    "        outputs = []\n",
    "        with tqdm(val_loader, unit='batch') as vepoch:\n",
    "            for data, labels in vepoch:\n",
    "                if labels.shape[0] < batch_size or data.shape[0] < batch_size: \n",
    "                    break\n",
    "                labels = labels.to(torch.long)\n",
    "                # converting the data into GPU format\n",
    "                if torch.cuda.is_available():\n",
    "                    data, labels = data.cuda(), labels.cuda()\n",
    "                outputs.append(model.validation_step(criterion, data, labels))\n",
    "        result = model.validation_epoch_end(outputs)\n",
    "        result['train_loss'] = torch.stack(train_losses).mean().item()\n",
    "        model.epoch_end(epoch, result)\n",
    "        history.append(result)\n",
    "        \n",
    "        if result['val_loss'] < best_val_loss: \n",
    "            val_loss = result['val_loss']\n",
    "            print(f'Validation Loss Decreased({best_val_loss}--->{val_loss}) \\t Saving The Model')\n",
    "            best_val_loss = val_loss\n",
    "            torch.save(model, '/root/rbc/saved_model.pth')\n",
    "\n",
    "        rtpt.step()\n",
    "        \n",
    "    return history\n",
    "\n"
   ]
  },
  {
   "cell_type": "markdown",
   "metadata": {},
   "source": [
    "#### Training the model"
   ]
  },
  {
   "cell_type": "code",
   "execution_count": null,
   "metadata": {},
   "outputs": [],
   "source": [
    "model = AlphaZeroResnet()\n",
    "# print(model)\n",
    "opt_func = Adam\n",
    "lr = 0.001\n",
    "criterion = CrossEntropyLoss()\n",
    "# criterion = DiceLoss()\n",
    "num_epochs = 10\n",
    "\n",
    "# check if GPU is available\n",
    "if torch.cuda.is_available():\n",
    "    model = model.cuda()\n",
    "    criterion = criterion.cuda()\n",
    "\n",
    "history = fit(num_epochs, lr, model, train_hdf5_generator, val_hdf5_generator, criterion, opt_func)\n"
   ]
  },
  {
   "cell_type": "markdown",
   "metadata": {},
   "source": [
    "#### Plot accuracies and losses "
   ]
  },
  {
   "cell_type": "code",
   "execution_count": null,
   "metadata": {},
   "outputs": [],
   "source": [
    "def plot_accuracies(history):\n",
    "    \"\"\" Plot the history of accuracies\"\"\"\n",
    "    accuracies = [x['val_acc'] for x in history]\n",
    "    plt.plot(accuracies, '-x')\n",
    "    plt.xlabel('epoch')\n",
    "    plt.ylabel('accuracy')\n",
    "    plt.title('Accuracy vs. No. of epochs')\n",
    "    plt.show()\n",
    "\n",
    "\n",
    "\n",
    "def plot_losses(history):\n",
    "    \"\"\" Plot the losses in each epoch\"\"\"\n",
    "    train_losses = [x.get('train_loss') for x in history]\n",
    "    val_losses = [x['val_loss'] for x in history]\n",
    "    plt.plot(train_losses, '-bx')\n",
    "    plt.plot(val_losses, '-rx')\n",
    "    plt.xlabel('epoch')\n",
    "    plt.ylabel('loss')\n",
    "    plt.legend(['Training', 'Validation'])\n",
    "    plt.title('Loss vs. No. of epochs')\n",
    "    plt.show()\n",
    "    \n",
    "plot_accuracies(history)\n",
    "\n",
    "plot_losses(history)"
   ]
  },
  {
   "cell_type": "markdown",
   "metadata": {},
   "source": [
    "#### Testing the model on test dataset "
   ]
  },
  {
   "cell_type": "code",
   "execution_count": 17,
   "metadata": {},
   "outputs": [
    {
     "ename": "RuntimeError",
     "evalue": "Attempting to deserialize object on a CUDA device but torch.cuda.is_available() is False. If you are running on a CPU-only machine, please use torch.load with map_location=torch.device('cpu') to map your storages to the CPU.",
     "output_type": "error",
     "traceback": [
      "\u001b[1;31m---------------------------------------------------------------------------\u001b[0m",
      "\u001b[1;31mRuntimeError\u001b[0m                              Traceback (most recent call last)",
      "\u001b[1;32mc:\\Users\\aniss\\OneDrive\\Dokumente\\Uni\\Semester4\\RBC\\RBC-Agent\\train\\sense_training.ipynb Cell 15\u001b[0m in \u001b[0;36m<cell line: 21>\u001b[1;34m()\u001b[0m\n\u001b[0;32m     <a href='vscode-notebook-cell:/c%3A/Users/aniss/OneDrive/Dokumente/Uni/Semester4/RBC/RBC-Agent/train/sense_training.ipynb#ch0000013?line=16'>17</a>\u001b[0m             running_accuracy \u001b[39m+\u001b[39m\u001b[39m=\u001b[39m (predicted \u001b[39m==\u001b[39m outputs)\u001b[39m.\u001b[39msum()\u001b[39m.\u001b[39mitem() \n\u001b[0;32m     <a href='vscode-notebook-cell:/c%3A/Users/aniss/OneDrive/Dokumente/Uni/Semester4/RBC/RBC-Agent/train/sense_training.ipynb#ch0000013?line=18'>19</a>\u001b[0m         \u001b[39mprint\u001b[39m(\u001b[39m'\u001b[39m\u001b[39mAccuracy of the model based on the test set of\u001b[39m\u001b[39m'\u001b[39m, total ,\u001b[39m'\u001b[39m\u001b[39minputs is: \u001b[39m\u001b[39m%d\u001b[39;00m\u001b[39m \u001b[39m\u001b[39m%%\u001b[39;00m\u001b[39m'\u001b[39m \u001b[39m%\u001b[39m (\u001b[39m100\u001b[39m \u001b[39m*\u001b[39m running_accuracy \u001b[39m/\u001b[39m total)) \n\u001b[1;32m---> <a href='vscode-notebook-cell:/c%3A/Users/aniss/OneDrive/Dokumente/Uni/Semester4/RBC/RBC-Agent/train/sense_training.ipynb#ch0000013?line=20'>21</a>\u001b[0m test()\n",
      "\u001b[1;32mc:\\Users\\aniss\\OneDrive\\Dokumente\\Uni\\Semester4\\RBC\\RBC-Agent\\train\\sense_training.ipynb Cell 15\u001b[0m in \u001b[0;36mtest\u001b[1;34m()\u001b[0m\n\u001b[0;32m      <a href='vscode-notebook-cell:/c%3A/Users/aniss/OneDrive/Dokumente/Uni/Semester4/RBC/RBC-Agent/train/sense_training.ipynb#ch0000013?line=2'>3</a>\u001b[0m model \u001b[39m=\u001b[39m AlphaZeroResnet()\n\u001b[0;32m      <a href='vscode-notebook-cell:/c%3A/Users/aniss/OneDrive/Dokumente/Uni/Semester4/RBC/RBC-Agent/train/sense_training.ipynb#ch0000013?line=3'>4</a>\u001b[0m path \u001b[39m=\u001b[39m \u001b[39m\"\u001b[39m\u001b[39mC:\u001b[39m\u001b[39m\\\\\u001b[39;00m\u001b[39mUsers\u001b[39m\u001b[39m\\\\\u001b[39;00m\u001b[39maniss\u001b[39m\u001b[39m\\\\\u001b[39;00m\u001b[39mOneDrive\u001b[39m\u001b[39m\\\\\u001b[39;00m\u001b[39mDokumente\u001b[39m\u001b[39m\\\\\u001b[39;00m\u001b[39mUni\u001b[39m\u001b[39m\\\\\u001b[39;00m\u001b[39mSemester4\u001b[39m\u001b[39m\\\\\u001b[39;00m\u001b[39mRBC\u001b[39m\u001b[39m\\\\\u001b[39;00m\u001b[39mRBC-Agent\u001b[39m\u001b[39m\\\\\u001b[39;00m\u001b[39mmodel\u001b[39m\u001b[39m\\\\\u001b[39;00m\u001b[39msl-model\u001b[39m\u001b[39m\\\\\u001b[39;00m\u001b[39msaved_model.pth\u001b[39m\u001b[39m\"\u001b[39m\n\u001b[1;32m----> <a href='vscode-notebook-cell:/c%3A/Users/aniss/OneDrive/Dokumente/Uni/Semester4/RBC/RBC-Agent/train/sense_training.ipynb#ch0000013?line=4'>5</a>\u001b[0m model\u001b[39m.\u001b[39mload_state_dict(torch\u001b[39m.\u001b[39;49mload(path)) \n\u001b[0;32m      <a href='vscode-notebook-cell:/c%3A/Users/aniss/OneDrive/Dokumente/Uni/Semester4/RBC/RBC-Agent/train/sense_training.ipynb#ch0000013?line=5'>6</a>\u001b[0m test_hdf5_generator \u001b[39m=\u001b[39m create_hdf5_generator(H5_TEST, \u001b[39m1\u001b[39m)\n\u001b[0;32m      <a href='vscode-notebook-cell:/c%3A/Users/aniss/OneDrive/Dokumente/Uni/Semester4/RBC/RBC-Agent/train/sense_training.ipynb#ch0000013?line=7'>8</a>\u001b[0m running_accuracy \u001b[39m=\u001b[39m \u001b[39m0\u001b[39m \n",
      "File \u001b[1;32mc:\\Users\\aniss\\anaconda3\\envs\\rbc\\lib\\site-packages\\torch\\serialization.py:712\u001b[0m, in \u001b[0;36mload\u001b[1;34m(f, map_location, pickle_module, **pickle_load_args)\u001b[0m\n\u001b[0;32m    710\u001b[0m             opened_file\u001b[39m.\u001b[39mseek(orig_position)\n\u001b[0;32m    711\u001b[0m             \u001b[39mreturn\u001b[39;00m torch\u001b[39m.\u001b[39mjit\u001b[39m.\u001b[39mload(opened_file)\n\u001b[1;32m--> 712\u001b[0m         \u001b[39mreturn\u001b[39;00m _load(opened_zipfile, map_location, pickle_module, \u001b[39m*\u001b[39m\u001b[39m*\u001b[39mpickle_load_args)\n\u001b[0;32m    713\u001b[0m \u001b[39mreturn\u001b[39;00m _legacy_load(opened_file, map_location, pickle_module, \u001b[39m*\u001b[39m\u001b[39m*\u001b[39mpickle_load_args)\n",
      "File \u001b[1;32mc:\\Users\\aniss\\anaconda3\\envs\\rbc\\lib\\site-packages\\torch\\serialization.py:1046\u001b[0m, in \u001b[0;36m_load\u001b[1;34m(zip_file, map_location, pickle_module, pickle_file, **pickle_load_args)\u001b[0m\n\u001b[0;32m   1044\u001b[0m unpickler \u001b[39m=\u001b[39m UnpicklerWrapper(data_file, \u001b[39m*\u001b[39m\u001b[39m*\u001b[39mpickle_load_args)\n\u001b[0;32m   1045\u001b[0m unpickler\u001b[39m.\u001b[39mpersistent_load \u001b[39m=\u001b[39m persistent_load\n\u001b[1;32m-> 1046\u001b[0m result \u001b[39m=\u001b[39m unpickler\u001b[39m.\u001b[39;49mload()\n\u001b[0;32m   1048\u001b[0m torch\u001b[39m.\u001b[39m_utils\u001b[39m.\u001b[39m_validate_loaded_sparse_tensors()\n\u001b[0;32m   1050\u001b[0m \u001b[39mreturn\u001b[39;00m result\n",
      "File \u001b[1;32mc:\\Users\\aniss\\anaconda3\\envs\\rbc\\lib\\site-packages\\torch\\serialization.py:1016\u001b[0m, in \u001b[0;36m_load.<locals>.persistent_load\u001b[1;34m(saved_id)\u001b[0m\n\u001b[0;32m   1014\u001b[0m \u001b[39mif\u001b[39;00m key \u001b[39mnot\u001b[39;00m \u001b[39min\u001b[39;00m loaded_storages:\n\u001b[0;32m   1015\u001b[0m     nbytes \u001b[39m=\u001b[39m numel \u001b[39m*\u001b[39m torch\u001b[39m.\u001b[39m_utils\u001b[39m.\u001b[39m_element_size(dtype)\n\u001b[1;32m-> 1016\u001b[0m     load_tensor(dtype, nbytes, key, _maybe_decode_ascii(location))\n\u001b[0;32m   1018\u001b[0m \u001b[39mreturn\u001b[39;00m loaded_storages[key]\n",
      "File \u001b[1;32mc:\\Users\\aniss\\anaconda3\\envs\\rbc\\lib\\site-packages\\torch\\serialization.py:1001\u001b[0m, in \u001b[0;36m_load.<locals>.load_tensor\u001b[1;34m(dtype, numel, key, location)\u001b[0m\n\u001b[0;32m    997\u001b[0m storage \u001b[39m=\u001b[39m zip_file\u001b[39m.\u001b[39mget_storage_from_record(name, numel, torch\u001b[39m.\u001b[39m_UntypedStorage)\u001b[39m.\u001b[39mstorage()\u001b[39m.\u001b[39m_untyped()\n\u001b[0;32m    998\u001b[0m \u001b[39m# TODO: Once we decide to break serialization FC, we can\u001b[39;00m\n\u001b[0;32m    999\u001b[0m \u001b[39m# stop wrapping with _TypedStorage\u001b[39;00m\n\u001b[0;32m   1000\u001b[0m loaded_storages[key] \u001b[39m=\u001b[39m torch\u001b[39m.\u001b[39mstorage\u001b[39m.\u001b[39m_TypedStorage(\n\u001b[1;32m-> 1001\u001b[0m     wrap_storage\u001b[39m=\u001b[39mrestore_location(storage, location),\n\u001b[0;32m   1002\u001b[0m     dtype\u001b[39m=\u001b[39mdtype)\n",
      "File \u001b[1;32mc:\\Users\\aniss\\anaconda3\\envs\\rbc\\lib\\site-packages\\torch\\serialization.py:176\u001b[0m, in \u001b[0;36mdefault_restore_location\u001b[1;34m(storage, location)\u001b[0m\n\u001b[0;32m    174\u001b[0m \u001b[39mdef\u001b[39;00m \u001b[39mdefault_restore_location\u001b[39m(storage, location):\n\u001b[0;32m    175\u001b[0m     \u001b[39mfor\u001b[39;00m _, _, fn \u001b[39min\u001b[39;00m _package_registry:\n\u001b[1;32m--> 176\u001b[0m         result \u001b[39m=\u001b[39m fn(storage, location)\n\u001b[0;32m    177\u001b[0m         \u001b[39mif\u001b[39;00m result \u001b[39mis\u001b[39;00m \u001b[39mnot\u001b[39;00m \u001b[39mNone\u001b[39;00m:\n\u001b[0;32m    178\u001b[0m             \u001b[39mreturn\u001b[39;00m result\n",
      "File \u001b[1;32mc:\\Users\\aniss\\anaconda3\\envs\\rbc\\lib\\site-packages\\torch\\serialization.py:152\u001b[0m, in \u001b[0;36m_cuda_deserialize\u001b[1;34m(obj, location)\u001b[0m\n\u001b[0;32m    150\u001b[0m \u001b[39mdef\u001b[39;00m \u001b[39m_cuda_deserialize\u001b[39m(obj, location):\n\u001b[0;32m    151\u001b[0m     \u001b[39mif\u001b[39;00m location\u001b[39m.\u001b[39mstartswith(\u001b[39m'\u001b[39m\u001b[39mcuda\u001b[39m\u001b[39m'\u001b[39m):\n\u001b[1;32m--> 152\u001b[0m         device \u001b[39m=\u001b[39m validate_cuda_device(location)\n\u001b[0;32m    153\u001b[0m         \u001b[39mif\u001b[39;00m \u001b[39mgetattr\u001b[39m(obj, \u001b[39m\"\u001b[39m\u001b[39m_torch_load_uninitialized\u001b[39m\u001b[39m\"\u001b[39m, \u001b[39mFalse\u001b[39;00m):\n\u001b[0;32m    154\u001b[0m             storage_type \u001b[39m=\u001b[39m \u001b[39mgetattr\u001b[39m(torch\u001b[39m.\u001b[39mcuda, \u001b[39mtype\u001b[39m(obj)\u001b[39m.\u001b[39m\u001b[39m__name__\u001b[39m)\n",
      "File \u001b[1;32mc:\\Users\\aniss\\anaconda3\\envs\\rbc\\lib\\site-packages\\torch\\serialization.py:136\u001b[0m, in \u001b[0;36mvalidate_cuda_device\u001b[1;34m(location)\u001b[0m\n\u001b[0;32m    133\u001b[0m device \u001b[39m=\u001b[39m torch\u001b[39m.\u001b[39mcuda\u001b[39m.\u001b[39m_utils\u001b[39m.\u001b[39m_get_device_index(location, \u001b[39mTrue\u001b[39;00m)\n\u001b[0;32m    135\u001b[0m \u001b[39mif\u001b[39;00m \u001b[39mnot\u001b[39;00m torch\u001b[39m.\u001b[39mcuda\u001b[39m.\u001b[39mis_available():\n\u001b[1;32m--> 136\u001b[0m     \u001b[39mraise\u001b[39;00m \u001b[39mRuntimeError\u001b[39;00m(\u001b[39m'\u001b[39m\u001b[39mAttempting to deserialize object on a CUDA \u001b[39m\u001b[39m'\u001b[39m\n\u001b[0;32m    137\u001b[0m                        \u001b[39m'\u001b[39m\u001b[39mdevice but torch.cuda.is_available() is False. \u001b[39m\u001b[39m'\u001b[39m\n\u001b[0;32m    138\u001b[0m                        \u001b[39m'\u001b[39m\u001b[39mIf you are running on a CPU-only machine, \u001b[39m\u001b[39m'\u001b[39m\n\u001b[0;32m    139\u001b[0m                        \u001b[39m'\u001b[39m\u001b[39mplease use torch.load with map_location=torch.device(\u001b[39m\u001b[39m\\'\u001b[39;00m\u001b[39mcpu\u001b[39m\u001b[39m\\'\u001b[39;00m\u001b[39m) \u001b[39m\u001b[39m'\u001b[39m\n\u001b[0;32m    140\u001b[0m                        \u001b[39m'\u001b[39m\u001b[39mto map your storages to the CPU.\u001b[39m\u001b[39m'\u001b[39m)\n\u001b[0;32m    141\u001b[0m device_count \u001b[39m=\u001b[39m torch\u001b[39m.\u001b[39mcuda\u001b[39m.\u001b[39mdevice_count()\n\u001b[0;32m    142\u001b[0m \u001b[39mif\u001b[39;00m device \u001b[39m>\u001b[39m\u001b[39m=\u001b[39m device_count:\n",
      "\u001b[1;31mRuntimeError\u001b[0m: Attempting to deserialize object on a CUDA device but torch.cuda.is_available() is False. If you are running on a CPU-only machine, please use torch.load with map_location=torch.device('cpu') to map your storages to the CPU."
     ]
    }
   ],
   "source": [
    "def test(): \n",
    "    # Load the model that we saved at the end of the training loop \n",
    "    model = AlphaZeroResnet()\n",
    "    path = '/root/rbc/saved_model.pth'\n",
    "    model.load_state_dict(torch.load(path)) \n",
    "    test_hdf5_generator = create_hdf5_generator(H5_TEST, 1)\n",
    "     \n",
    "    running_accuracy = 0 \n",
    "    total = 0 \n",
    " \n",
    "    with torch.no_grad(): \n",
    "        for inputs, outputs in test_hdf5_generator: \n",
    "            outputs = outputs.to(torch.long) \n",
    "            predicted_outputs = model(inputs) \n",
    "            _, predicted = torch.max(predicted_outputs, 1) \n",
    "            total += outputs.size(0) \n",
    "            running_accuracy += (predicted == outputs).sum().item() \n",
    " \n",
    "        print('Accuracy of the model based on the test set of', total ,'inputs is: %d %%' % (100 * running_accuracy / total)) \n",
    "\n",
    "test()"
   ]
  }
 ],
 "metadata": {
  "kernelspec": {
   "display_name": "Python 3 (ipykernel)",
   "language": "python",
   "name": "python3"
  },
  "language_info": {
   "codemirror_mode": {
    "name": "ipython",
    "version": 3
   },
   "file_extension": ".py",
   "mimetype": "text/x-python",
   "name": "python",
   "nbconvert_exporter": "python",
   "pygments_lexer": "ipython3",
   "version": "3.10.4"
  },
  "vscode": {
   "interpreter": {
    "hash": "334571f43833167cff2a32fc3fb1a5df84c2106c1727de884da5357de05be83f"
   }
  }
 },
 "nbformat": 4,
 "nbformat_minor": 2
}
