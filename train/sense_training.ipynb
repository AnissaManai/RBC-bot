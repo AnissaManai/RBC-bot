{
 "cells": [
  {
   "cell_type": "markdown",
   "metadata": {},
   "source": [
    "#### Import Libraries "
   ]
  },
  {
   "cell_type": "code",
   "execution_count": 1,
   "metadata": {},
   "outputs": [],
   "source": [
    "import os\n",
    "import sys\n",
    "module_path = os.path.abspath(os.path.join('..'))\n",
    "if module_path not in sys.path:\n",
    "    sys.path.append(module_path)"
   ]
  },
  {
   "cell_type": "code",
   "execution_count": 2,
   "metadata": {},
   "outputs": [],
   "source": [
    "import time\n",
    "import h5py\n",
    "import numpy as np\n",
    "import matplotlib.pyplot as plt\n",
    "from sklearn.metrics import accuracy_score\n",
    "from tqdm.notebook import tqdm\n",
    "\n",
    "# PyTorch libraries and modules\n",
    "import torch\n",
    "import torch.nn as nn\n",
    "import torch.nn.functional as F\n",
    "from torch.nn import CrossEntropyLoss\n",
    "from torch.optim import Adam, SGD\n",
    "\n",
    "from train.main_config import main_config\n",
    "\n",
    "from nn.a0_resnet import AlphaZeroResnet"
   ]
  },
  {
   "cell_type": "markdown",
   "metadata": {},
   "source": [
    "#### Splitting the data"
   ]
  },
  {
   "cell_type": "code",
   "execution_count": 3,
   "metadata": {},
   "outputs": [],
   "source": [
    "H5_TRAIN = main_config[\"train_dir\"]\n",
    "H5_VAL = main_config[\"val_dir\"]\n",
    "H5_TEST = main_config[\"test_dir\"]\n",
    "\n",
    "\n",
    "def create_hdf5_generator(file_path, batch_size):\n",
    "    file = h5py.File(file_path)\n",
    "    data_size = file['data'].shape[0]\n",
    "\n",
    "    while True: # loop through the dataset indefinitely\n",
    "        for i in np.arange(0, data_size, batch_size):\n",
    "            data = file['data'][i:i+batch_size]\n",
    "            labels = file['labels'][i:i+batch_size]\n",
    "            # converting data into torch format\n",
    "            data  = torch.from_numpy(data)\n",
    "            # converting the lables into torch format\n",
    "            labels = torch.from_numpy(labels)\n",
    "            yield data, labels"
   ]
  },
  {
   "cell_type": "markdown",
   "metadata": {},
   "source": [
    "#### Defining Dice Loss "
   ]
  },
  {
   "cell_type": "code",
   "execution_count": 40,
   "metadata": {},
   "outputs": [],
   "source": [
    "def get_sense_plane(sense_square):\n",
    "    \"\"\" \n",
    "    returns e.g. for sense_square 8\n",
    "    [\n",
    "    0, 0, 0, 0, 0, 0, 0, 0\n",
    "    0, 1, 1, 1, 0, 0, 0, 0\n",
    "    0, 1, 1, 1, 0, 0, 0, 0\n",
    "    0, 1, 1, 1, 0, 0, 0, 0\n",
    "    0, 0, 0, 0, 0, 0, 0, 0\n",
    "    0, 0, 0, 0, 0, 0, 0, 0\n",
    "    0, 0, 0, 0, 0, 0, 0, 0\n",
    "    0, 0, 0, 0, 0, 0, 0, 0\n",
    "    ]\n",
    "    \"\"\"\n",
    "    plane = torch.ones(8,8, dtype= torch.float, requires_grad=True)\n",
    "    helper_tensor = torch.zeros(8,8, dtype= torch.float)\n",
    "    if sense_square > 0:\n",
    "        row = torch.div((sense_square - 1), 6).to(torch.long)\n",
    "        col = torch.fmod((sense_square - 1), 6).to(torch.long)\n",
    "        row = 5  - row\n",
    "        for delta_rank in [1, 0, -1]:\n",
    "            for delta_file in [-1, 0, 1]:\n",
    "                helper_tensor[row + 1 + delta_rank][col + 1 + delta_file] = 1\n",
    "\n",
    "    new_plane = plane * helper_tensor\n",
    "\n",
    "    return new_plane.requires_grad(True)\n",
    "\n",
    "\n",
    "class DiceLoss(nn.Module):\n",
    "    def __init__(self):\n",
    "        super(DiceLoss, self).__init__()\n",
    "\n",
    "    def forward(self, inputs, targets, smooth=1):\n",
    "        #flatten label and prediction tensors\n",
    "        _ , inputs = torch.max(inputs, 1)\n",
    "        \n",
    "        new_predicted = torch.empty(64, 8, 8)\n",
    "        new_labels = torch.empty(64, 8, 8)\n",
    "        for i, pos in enumerate(inputs):\n",
    "            sense_plane = get_sense_plane(pos)\n",
    "            new_predicted[i, :, :] = sense_plane\n",
    "        for i, label in enumerate(targets):\n",
    "            sense_plane = get_sense_plane(label)\n",
    "            new_labels[i, :, :] = sense_plane\n",
    "        inputs = new_predicted\n",
    "        targets = new_labels\n",
    "        inputs = inputs.view(-1)\n",
    "        targets = targets.view(-1)\n",
    "        torch.set_printoptions(profile=\"full\")\n",
    "        \n",
    "        intersection = (inputs * targets).sum()   \n",
    "        loss = 1 - (2.*intersection + smooth)/(inputs.sum() + targets.sum() + smooth)  \n",
    "        return  loss"
   ]
  },
  {
   "cell_type": "markdown",
   "metadata": {},
   "source": [
    "##### Defining fit method"
   ]
  },
  {
   "cell_type": "code",
   "execution_count": 7,
   "metadata": {},
   "outputs": [],
   "source": [
    "batch_size = 64\n",
    "\n",
    "train_hdf5_generator = create_hdf5_generator(H5_TRAIN, batch_size)\n",
    "val_hdf5_generator = create_hdf5_generator(H5_VAL, batch_size)\n",
    "\n",
    "\n",
    "def fit(epochs, lr, model, train_loader, val_loader, criterion, opt_func = SGD):\n",
    "    best_val_loss = np.inf\n",
    "    history = []\n",
    "    optimizer = opt_func(model.parameters(), lr, weight_decay=0.01)\n",
    "    for epoch in range(epochs):\n",
    "\n",
    "        model.train()\n",
    "        train_losses = []\n",
    "        with tqdm(train_loader,  unit='batch') as tepoch:\n",
    "            for data, labels in tepoch: \n",
    "                tepoch.set_description(f\"Epoch {epoch}\")\n",
    "                if labels.shape[0] < batch_size or data.shape[0] < batch_size: \n",
    "                    break\n",
    "                labels = labels.to(torch.long)\n",
    "                # converting the data into GPU format\n",
    "                if torch.cuda.is_available():\n",
    "                    data, labels = data.cuda(), labels.cuda()\n",
    "\n",
    "                loss = model.training_step(criterion, data, labels)\n",
    "                train_losses.append(loss)\n",
    "                loss.backward()\n",
    "                optimizer.step()\n",
    "                optimizer.zero_grad()\n",
    "\n",
    "        model.eval()\n",
    "        outputs = []\n",
    "        with tqdm(val_hdf5_generator, unit='batch') as vepoch:\n",
    "            for data, labels in vepoch:\n",
    "                if labels.shape[0] < batch_size or data.shape[0] < batch_size: \n",
    "                    break\n",
    "                labels = labels.to(torch.long)\n",
    "                # converting the data into GPU format\n",
    "                if torch.cuda.is_available():\n",
    "                    data, labels = data.cuda(), labels.cuda()\n",
    "                outputs.append(model.validation_step(criterion, data, labels))\n",
    "        result = model.validation_epoch_end(outputs)\n",
    "        result['train_loss'] = torch.stack(train_losses).mean().item()\n",
    "        model.epoch_end(epoch, result)\n",
    "        history.append(result)\n",
    "        \n",
    "        if result['val_loss'] < best_val_loss: \n",
    "            val_loss = result['val_loss']\n",
    "            print(f'Validation Loss Decreased({best_val_loss}--->{val_loss}) \\t Saving The Model')\n",
    "            best_val_loss = val_loss\n",
    "            torch.save(model, '/root/rbc/saved_model.pth')\n",
    "        \n",
    "    return history\n",
    "\n"
   ]
  },
  {
   "cell_type": "markdown",
   "metadata": {},
   "source": [
    "#### Training the model"
   ]
  },
  {
   "cell_type": "code",
   "execution_count": null,
   "metadata": {},
   "outputs": [],
   "source": [
    "model = AlphaZeroResnet()\n",
    "# print(model)\n",
    "opt_func = Adam\n",
    "lr = 0.001\n",
    "criterion = CrossEntropyLoss()\n",
    "# criterion = DiceLoss()\n",
    "num_epochs = 100\n",
    "\n",
    "# check if GPU is available\n",
    "if torch.cuda.is_available():\n",
    "    model = model.cuda()\n",
    "    criterion = criterion.cuda()\n",
    "\n",
    "history = fit(num_epochs, lr, model, train_hdf5_generator, val_hdf5_generator, criterion, opt_func)\n"
   ]
  },
  {
   "cell_type": "markdown",
   "metadata": {},
   "source": [
    "#### Plot accuracies and losses "
   ]
  },
  {
   "cell_type": "code",
   "execution_count": null,
   "metadata": {},
   "outputs": [],
   "source": [
    "def plot_accuracies(history):\n",
    "    \"\"\" Plot the history of accuracies\"\"\"\n",
    "    accuracies = [x['val_acc'] for x in history]\n",
    "    plt.plot(accuracies, '-x')\n",
    "    plt.xlabel('epoch')\n",
    "    plt.ylabel('accuracy')\n",
    "    plt.title('Accuracy vs. No. of epochs');\n",
    "    plt.show()\n",
    "\n",
    "\n",
    "\n",
    "def plot_losses(history):\n",
    "    \"\"\" Plot the losses in each epoch\"\"\"\n",
    "    train_losses = [x.get('train_loss') for x in history]\n",
    "    val_losses = [x['val_loss'] for x in history]\n",
    "    plt.plot(train_losses, '-bx')\n",
    "    plt.plot(val_losses, '-rx')\n",
    "    plt.xlabel('epoch')\n",
    "    plt.ylabel('loss')\n",
    "    plt.legend(['Training', 'Validation'])\n",
    "    plt.title('Loss vs. No. of epochs');\n",
    "    plt.show()\n",
    "    \n",
    "plot_accuracies(history)\n",
    "\n",
    "plot_losses(history)"
   ]
  }
 ],
 "metadata": {
  "kernelspec": {
   "display_name": "Python 3 (ipykernel)",
   "language": "python",
   "name": "python3"
  },
  "language_info": {
   "codemirror_mode": {
    "name": "ipython",
    "version": 3
   },
   "file_extension": ".py",
   "mimetype": "text/x-python",
   "name": "python",
   "nbconvert_exporter": "python",
   "pygments_lexer": "ipython3",
   "version": "3.10.4"
  },
  "vscode": {
   "interpreter": {
    "hash": "334571f43833167cff2a32fc3fb1a5df84c2106c1727de884da5357de05be83f"
   }
  }
 },
 "nbformat": 4,
 "nbformat_minor": 2
}
