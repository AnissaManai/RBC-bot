{
 "cells": [
  {
   "cell_type": "markdown",
   "metadata": {},
   "source": [
    "#### Import Libraries "
   ]
  },
  {
   "cell_type": "code",
   "execution_count": 2,
   "metadata": {},
   "outputs": [],
   "source": [
    "import os\n",
    "import sys\n",
    "module_path = os.path.abspath(os.path.join('..'))\n",
    "if module_path not in sys.path:\n",
    "    sys.path.append(module_path)"
   ]
  },
  {
   "cell_type": "code",
   "execution_count": 3,
   "metadata": {},
   "outputs": [],
   "source": [
    "from rtpt import RTPT\n",
    "import time\n",
    "import h5py\n",
    "import numpy as np\n",
    "import matplotlib.pyplot as plt\n",
    "from sklearn.metrics import accuracy_score\n",
    "from tqdm.notebook import tqdm\n",
    "\n",
    "# PyTorch libraries and modules\n",
    "import torch\n",
    "import torch.nn as nn\n",
    "import torch.nn.functional as F\n",
    "from torch.nn import CrossEntropyLoss\n",
    "from torch.optim import Adam, SGD\n",
    "\n",
    "from train.main_config import main_config\n",
    "\n",
    "from nn.a0_resnet import AlphaZeroResnet"
   ]
  },
  {
   "cell_type": "markdown",
   "metadata": {},
   "source": [
    "#### Splitting the data"
   ]
  },
  {
   "cell_type": "code",
   "execution_count": 4,
   "metadata": {},
   "outputs": [],
   "source": [
    "H5_TRAIN = main_config[\"train_dir\"]\n",
    "H5_VAL = main_config[\"val_dir\"]\n",
    "H5_TEST = main_config[\"test_dir\"]\n",
    "\n",
    "\n",
    "def create_hdf5_generator(file_path, batch_size):\n",
    "    file = h5py.File(file_path)\n",
    "    data_size = file['data'].shape[0]\n",
    "\n",
    "    while True: # loop through the dataset indefinitely\n",
    "        for i in np.arange(0, data_size, batch_size):\n",
    "            data = file['data'][i:i+batch_size]\n",
    "            labels = file['labels'][i:i+batch_size]\n",
    "            # converting data into torch format\n",
    "            data  = torch.from_numpy(data)\n",
    "            # converting the lables into torch format\n",
    "            labels = torch.from_numpy(labels)\n",
    "            yield data, labels"
   ]
  },
  {
   "cell_type": "markdown",
   "metadata": {},
   "source": [
    "#### Defining Dice Metric"
   ]
  },
  {
   "cell_type": "code",
   "execution_count": 10,
   "metadata": {},
   "outputs": [],
   "source": [
    "def get_lookup_masks():\n",
    "    \"\"\" \n",
    "    returns e.g. for sense_square 2\n",
    "    [\n",
    "    0, 0, 0, 0, 0, 0, 0, 0\n",
    "    0, 0, 0, 0, 0, 0, 0, 0\n",
    "    0, 0, 0, 0, 0, 0, 0, 0\n",
    "    0, 0, 0, 0, 0, 0, 0, 0\n",
    "    0, 0, 0, 0, 0, 0, 0, 0\n",
    "    0, 1, 1, 1, 0, 0, 0, 0\n",
    "    0, 1, 1, 1, 0, 0, 0, 0\n",
    "    0, 1, 1, 1, 0, 0, 0, 0\n",
    "    ]\n",
    "    \"\"\"\n",
    "    \n",
    "    masks = np.zeros((37, 8, 8))\n",
    "    for pos in range(1, 37): \n",
    "        row = (pos - 1) // 6\n",
    "        col = (pos - 1) % 6\n",
    "        row = 5  - row\n",
    "        for delta_rank in [1, 0, -1]:\n",
    "            for delta_file in [-1, 0, 1]:\n",
    "                masks[pos][row + 1 + delta_rank][col + 1 + delta_file] = 1\n",
    "\n",
    "    return masks\n",
    "    \n",
    "\n",
    "lookup_masks = get_lookup_masks()\n",
    "\n",
    "def DiceMetric(outputs, predicted_outputs):\n",
    "    new_predicted = []\n",
    "    new_outputs = []\n",
    "    smooth = .001\n",
    "    for i, pos in enumerate(outputs):\n",
    "        sense_plane = lookup_masks[pos.item()]\n",
    "        new_predicted.append(sense_plane)\n",
    "    for i, pos in enumerate(predicted_outputs):\n",
    "        sense_plane = lookup_masks[pos.item()]\n",
    "        new_outputs.append(sense_plane)\n",
    "    inputs = torch.tensor(new_predicted)\n",
    "    targets = torch.tensor(new_outputs)\n",
    "    #flatten label and prediction tensors\n",
    "    inputs = inputs.view(-1)\n",
    "    targets = targets.view(-1)\n",
    "    torch.set_printoptions(profile=\"full\")\n",
    "\n",
    "    intersection = (inputs * targets).sum()   \n",
    "    Dice = (2. *intersection + smooth)/(inputs.sum() + targets.sum() + smooth)  \n",
    "    \n",
    "    return Dice.item()"
   ]
  },
  {
   "cell_type": "markdown",
   "metadata": {},
   "source": [
    "##### Defining fit method"
   ]
  },
  {
   "cell_type": "code",
   "execution_count": 14,
   "metadata": {},
   "outputs": [],
   "source": [
    "batch_size = 64\n",
    "\n",
    "file = h5py.File(H5_TRAIN)\n",
    "train_data_size = file['data'].shape[0]\n",
    "file = h5py.File(H5_VAL)\n",
    "val_data_size = file['data'].shape[0]\n",
    "train_hdf5_generator = create_hdf5_generator(H5_TRAIN, batch_size)\n",
    "val_hdf5_generator = create_hdf5_generator(H5_VAL, batch_size)\n",
    "\n",
    "\n",
    "def fit(epochs, lr, model, train_loader, val_loader, criterion, opt_func = SGD):\n",
    "    rtpt = RTPT(name_initials='AM', experiment_name='sense-training', max_iterations=epochs)\n",
    "    rtpt.start()\n",
    "    best_val_loss = np.inf\n",
    "    history = []\n",
    "    optimizer = opt_func(model.parameters(), lr, weight_decay=0.01)\n",
    "    for epoch in range(epochs):\n",
    "\n",
    "        model.train()\n",
    "        train_losses = []\n",
    "        with tqdm(train_loader,  unit='batch', total = train_data_size // batch_size) as tepoch:\n",
    "            for data, labels in tepoch: \n",
    "                tepoch.set_description(f\"Epoch {epoch}\")\n",
    "                if labels.shape[0] < batch_size or data.shape[0] < batch_size: \n",
    "                    break\n",
    "                labels = labels.to(torch.long)\n",
    "                # converting the data into GPU format\n",
    "                if torch.cuda.is_available():\n",
    "                    data, labels = data.cuda(), labels.cuda()\n",
    "\n",
    "                loss = model.training_step(criterion, data, labels)\n",
    "                train_losses.append(loss)\n",
    "                loss.backward()\n",
    "                optimizer.step()\n",
    "                optimizer.zero_grad()\n",
    "\n",
    "        model.eval()\n",
    "        outputs = []\n",
    "        with tqdm(val_loader, unit='batch', total = val_data_size // batch_size) as vepoch:\n",
    "            for data, labels in vepoch:\n",
    "                if labels.shape[0] < batch_size or data.shape[0] < batch_size: \n",
    "                    break\n",
    "                labels = labels.to(torch.long)\n",
    "                # converting the data into GPU format\n",
    "                if torch.cuda.is_available():\n",
    "                    data, labels = data.cuda(), labels.cuda()\n",
    "                outputs.append(model.validation_step(criterion, data, labels))\n",
    "        result = model.validation_epoch_end(outputs)\n",
    "        result['train_loss'] = torch.stack(train_losses).mean().item()\n",
    "        model.epoch_end(epoch, result)\n",
    "        history.append(result)\n",
    "        \n",
    "        if result['val_loss'] < best_val_loss: \n",
    "            val_loss = result['val_loss']\n",
    "            print(f'Validation Loss Decreased({best_val_loss}--->{val_loss}) \\t Saving The Model')\n",
    "            best_val_loss = val_loss\n",
    "            torch.save(model, '/root/rbc/saved_model.pth')\n",
    "\n",
    "        rtpt.step()\n",
    "        \n",
    "    return history\n"
   ]
  },
  {
   "cell_type": "markdown",
   "metadata": {},
   "source": [
    "#### Training the model"
   ]
  },
  {
   "cell_type": "code",
   "execution_count": null,
   "metadata": {},
   "outputs": [],
   "source": [
    "model = AlphaZeroResnet()\n",
    "# print(model)\n",
    "opt_func = Adam\n",
    "lr = 0.001\n",
    "criterion = CrossEntropyLoss()\n",
    "# criterion = DiceLoss()\n",
    "num_epochs = 20\n",
    "\n",
    "# check if GPU is available\n",
    "if torch.cuda.is_available():\n",
    "    model = model.cuda()\n",
    "    criterion = criterion.cuda()\n",
    "\n",
    "history = fit(num_epochs, lr, model, train_hdf5_generator, val_hdf5_generator, criterion, opt_func)"
   ]
  },
  {
   "cell_type": "markdown",
   "metadata": {},
   "source": [
    "#### Plot accuracies and losses "
   ]
  },
  {
   "cell_type": "code",
   "execution_count": null,
   "metadata": {},
   "outputs": [],
   "source": [
    "def plot_accuracies(history):\n",
    "    \"\"\" Plot the history of accuracies\"\"\"\n",
    "    accuracies = [x['val_acc'] for x in history]\n",
    "    plt.plot(accuracies, '-x')\n",
    "    plt.xlabel('epoch')\n",
    "    plt.ylabel('accuracy')\n",
    "    plt.title('Accuracy vs. No. of epochs')\n",
    "    plt.show()\n",
    "\n",
    "\n",
    "\n",
    "def plot_losses(history):\n",
    "    \"\"\" Plot the losses in each epoch\"\"\"\n",
    "    train_losses = [x.get('train_loss') for x in history]\n",
    "    val_losses = [x['val_loss'] for x in history]\n",
    "    plt.plot(train_losses, '-bx')\n",
    "    plt.plot(val_losses, '-rx')\n",
    "    plt.xlabel('epoch')\n",
    "    plt.ylabel('loss')\n",
    "    plt.legend(['Training', 'Validation'])\n",
    "    plt.title('Loss vs. No. of epochs')\n",
    "    plt.show()\n",
    "    \n",
    "plot_accuracies(history)\n",
    "\n",
    "plot_losses(history)"
   ]
  },
  {
   "cell_type": "markdown",
   "metadata": {},
   "source": [
    "#### Testing the model on test dataset "
   ]
  },
  {
   "cell_type": "code",
   "execution_count": null,
   "metadata": {},
   "outputs": [],
   "source": [
    "def test(): \n",
    "    # Load the model that we saved at the end of the training loop \n",
    "    model = AlphaZeroResnet()\n",
    "    path = '/root/rbc/saved_model.pth'\n",
    "    model = torch.load(path)\n",
    "    model = model.cuda()\n",
    "\n",
    "    file = h5py.File(H5_TEST)\n",
    "    data_size = file['data'].shape[0]\n",
    "    print('data size', data_size)\n",
    "    test_hdf5_generator = create_hdf5_generator(H5_TEST, batch_size)\n",
    "\n",
    "    running_accuracy = 0 \n",
    "    running_dice_coeff = 0\n",
    "    total = 0 \n",
    "\n",
    " \n",
    "    with torch.no_grad(): \n",
    "#         with tqdm(test_hdf5_generator, unit='batch') as e:\n",
    "        for inputs, outputs in tqdm(test_hdf5_generator, total = data_size // batch_size): \n",
    "            if inputs.shape[0] < batch_size or outputs.shape[0] < batch_size: \n",
    "                break\n",
    "            inputs, outputs = inputs.cuda(), outputs.cuda()\n",
    "            outputs = outputs.to(torch.long) \n",
    "            predicted_outputs = model(inputs) \n",
    "            _, predicted = torch.max(predicted_outputs, 1) \n",
    "            total += 1 \n",
    "            running_accuracy += (predicted == outputs).sum().item() \n",
    "            running_dice_coeff += DiceMetric(outputs, predicted)\n",
    " \n",
    "        print('Accuracy of the model based on the test set of', total * batch_size ,'inputs is: %d %%' % (100 * running_accuracy / (total * batch_size)))\n",
    "        print('Dice coefficient of the model based on the test set of', total * batch_size ,'inputs is:', (running_dice_coeff / total)) \n",
    "\n",
    "test()"
   ]
  }
 ],
 "metadata": {
  "kernelspec": {
   "display_name": "Python 3 (ipykernel)",
   "language": "python",
   "name": "python3"
  },
  "language_info": {
   "codemirror_mode": {
    "name": "ipython",
    "version": 3
   },
   "file_extension": ".py",
   "mimetype": "text/x-python",
   "name": "python",
   "nbconvert_exporter": "python",
   "pygments_lexer": "ipython3",
   "version": "3.10.4"
  },
  "vscode": {
   "interpreter": {
    "hash": "334571f43833167cff2a32fc3fb1a5df84c2106c1727de884da5357de05be83f"
   }
  }
 },
 "nbformat": 4,
 "nbformat_minor": 2
}
