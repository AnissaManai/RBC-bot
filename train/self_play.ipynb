{
 "cells": [
  {
   "cell_type": "code",
   "execution_count": 9,
   "metadata": {},
   "outputs": [],
   "source": [
    "import os\n",
    "import sys\n",
    "module_path = os.path.abspath(os.path.join('..'))\n",
    "if module_path not in sys.path:\n",
    "    sys.path.append(module_path)"
   ]
  },
  {
   "cell_type": "code",
   "execution_count": null,
   "metadata": {},
   "outputs": [],
   "source": [
    "import numpy as np\n",
    "from math import gamma\n",
    "import matplotlib.pyplot as plt\n",
    "\n",
    "\n",
    "from stable_baselines3.common.env_checker import check_env\n",
    "from stable_baselines3 import PPO\n",
    "from stable_baselines3.common import results_plotter\n",
    "from stable_baselines3.common.monitor import Monitor\n",
    "from stable_baselines3.common.results_plotter import load_results, ts2xy, plot_results, plot_curves\n",
    "\n",
    "from stable_baselines3.common.callbacks import (\n",
    "    BaseCallback,\n",
    "    EvalCallback, \n",
    "    CheckpointCallback, \n",
    "    StopTrainingOnMaxEpisodes\n",
    ")\n",
    "from stable_baselines3.common.evaluation import evaluate_policy\n",
    "from stable_baselines3.common.vec_env import DummyVecEnv, SubprocVecEnv\n",
    "from stable_baselines3.common.env_util import make_vec_env\n",
    "from stable_baselines3.common.utils import set_random_seed\n",
    "\n",
    "\n",
    "from nn.ppo_nn import CustomActorCriticPolicy\n",
    "from gym_env import RBCEnv"
   ]
  },
  {
   "cell_type": "code",
   "execution_count": 10,
   "metadata": {},
   "outputs": [],
   "source": [
    "# Create log dir\n",
    "log_dir = \"/root/rbc/train_log\"\n",
    "model_dir = '/root/rbcmodels/self_play_models'\n",
    "tensorboard_dir = os.path.join(log_dir, \"self_play_model_tensorboard\")\n",
    "checkpoint_dir = '/root/rbc/checkpoints'"
   ]
  },
  {
   "cell_type": "code",
   "execution_count": null,
   "metadata": {},
   "outputs": [],
   "source": [
    "def make_env(model_dir, rank, seed=0, ):\n",
    "    \"\"\"\n",
    "    Utility function for multiprocessed env.\n",
    "\n",
    "    :param env_id: (str) the environment ID\n",
    "    :param num_env: (int) the number of environments you wish to have in subprocesses\n",
    "    :param seed: (int) the inital seed for RNG\n",
    "    :param rank: (int) index of the subprocess\n",
    "    \"\"\"\n",
    "    def _init():\n",
    "        env = RBCEnv(model_dir=model_dir)\n",
    "        env.seed(seed + rank)\n",
    "        return env\n",
    "    set_random_seed(seed)\n",
    "    return _init\n",
    "\n",
    "def callback_on_new_best(): \n",
    "    print('NEW BEST MODEL SAVED')"
   ]
  },
  {
   "cell_type": "code",
   "execution_count": null,
   "metadata": {},
   "outputs": [],
   "source": [
    "if __name__ == '__main__':\n",
    "    # n_env = 1\n",
    "    # # env = SubprocVecEnv([make_env(model_dir, i, 0) for i in range(n_env)])\n",
    "    env = RBCEnv(model_dir=model_dir)\n",
    "    env = Monitor(env, log_dir)\n",
    "    eval_env = RBCEnv(model_dir=model_dir)\n",
    "    eval_env = Monitor(eval_env, log_dir)\n",
    "\n",
    "    # model = PPO.load(os.path.join(model_dir, \"best_model_gamma05\"))\n",
    "    model = PPO(CustomActorCriticPolicy, env, verbose = 1, tensorboard_log=tensorboard_dir)\n",
    "    model.save(os.path.join(model_dir, \"self_play_best_model\")) \n",
    "\n",
    "    # checkpoint_callback = CheckpointCallback(\n",
    "    # save_freq=10,\n",
    "    # save_path=checkpoint_dir,\n",
    "    # name_prefix=\"rl_model\"\n",
    "    # ) \n",
    "\n",
    "    eval_callback = EvalCallback(\n",
    "        eval_env, \n",
    "        best_model_save_path=model_dir, \n",
    "        callback_on_new_best=callback_on_new_best(),\n",
    "        log_path=log_dir, \n",
    "        eval_freq= 5000,\n",
    "        n_eval_episodes=5, \n",
    "        deterministic= True, \n",
    "        render=False)\n",
    "\n",
    "    callback_max_episodes = StopTrainingOnMaxEpisodes(max_episodes=10000, verbose=1)\n",
    "    # # # mean_reward, std_reward = evaluate_policy(model, env, n_eval_episodes=1)\n",
    "    model.learn(int(1e10), callback= [callback_max_episodes, eval_callback], tb_log_name=\"self_play_model\")\n",
    "    model.save(os.path.join(model_dir, \"final_self_play_model\"))\n",
    "    plot_results([log_dir],int(1e10), results_plotter.X_EPISODES, \"PPO RBC\")\n",
    "    # plot_curves([log_dir], results_plotter.X_EPISODES, \"PPO RBC\")\n",
    "    plt.show()"
   ]
  }
 ],
 "metadata": {
  "kernelspec": {
   "display_name": "Python 3.10.4 ('rbc')",
   "language": "python",
   "name": "python3"
  },
  "language_info": {
   "codemirror_mode": {
    "name": "ipython",
    "version": 3
   },
   "file_extension": ".py",
   "mimetype": "text/x-python",
   "name": "python",
   "nbconvert_exporter": "python",
   "pygments_lexer": "ipython3",
   "version": "3.10.4"
  },
  "orig_nbformat": 4,
  "vscode": {
   "interpreter": {
    "hash": "334571f43833167cff2a32fc3fb1a5df84c2106c1727de884da5357de05be83f"
   }
  }
 },
 "nbformat": 4,
 "nbformat_minor": 2
}
