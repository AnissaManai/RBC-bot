{
 "cells": [
  {
   "cell_type": "code",
   "execution_count": 1,
   "metadata": {},
   "outputs": [],
   "source": [
    "import os\n",
    "import sys\n",
    "module_path = os.path.abspath(os.path.join('..'))\n",
    "if module_path not in sys.path:\n",
    "    sys.path.append(module_path)"
   ]
  },
  {
   "cell_type": "code",
   "execution_count": 2,
   "metadata": {},
   "outputs": [],
   "source": [
    "import numpy as np\n",
    "from math import gamma\n",
    "import matplotlib.pyplot as plt\n",
    "import tqdm\n",
    "\n",
    "\n",
    "from stable_baselines3.common.env_checker import check_env\n",
    "from stable_baselines3 import PPO\n",
    "from stable_baselines3.common import results_plotter\n",
    "from stable_baselines3.common.monitor import Monitor\n",
    "from stable_baselines3.common.results_plotter import load_results, ts2xy, plot_results, plot_curves\n",
    "\n",
    "from stable_baselines3.common.callbacks import (\n",
    "    BaseCallback,\n",
    "    EvalCallback, \n",
    "    CheckpointCallback, \n",
    "    StopTrainingOnMaxEpisodes\n",
    ")\n",
    "from stable_baselines3.common.evaluation import evaluate_policy\n",
    "from stable_baselines3.common.vec_env import DummyVecEnv, SubprocVecEnv\n",
    "from stable_baselines3.common.env_util import make_vec_env\n",
    "from stable_baselines3.common.utils import set_random_seed\n",
    "\n",
    "\n",
    "from nn.ppo_nn import CustomActorCriticPolicy\n",
    "from gym_env import RBCEnv"
   ]
  },
  {
   "cell_type": "code",
   "execution_count": 3,
   "metadata": {},
   "outputs": [],
   "source": [
    "# Create log dir\n",
    "log_dir = \"/root/rbc/train_log\"\n",
    "model_dir = '/root/rbcmodels/self_play_models'\n",
    "tensorboard_dir = os.path.join(log_dir, \"self_play_model_tensorboard\")\n",
    "checkpoint_dir = '/root/rbc/checkpoints'"
   ]
  },
  {
   "cell_type": "code",
   "execution_count": 4,
   "metadata": {},
   "outputs": [],
   "source": [
    "def make_env(model_dir, rank, seed=0):\n",
    "    \"\"\"\n",
    "    Utility function for multiprocessed env.\n",
    "\n",
    "    :param env_id: (str) the environment ID\n",
    "    :param num_env: (int) the number of environments you wish to have in subprocesses\n",
    "    :param seed: (int) the inital seed for RNG\n",
    "    :param rank: (int) index of the subprocess\n",
    "    \"\"\"\n",
    "    def _init():\n",
    "        env = RBCEnv(model_dir=model_dir)\n",
    "        env.seed(seed + rank)\n",
    "        return env\n",
    "    set_random_seed(seed)\n",
    "    return _init\n",
    "\n",
    "def callback_on_new_best(): \n",
    "    print('NEW BEST MODEL SAVED')\n",
    "\n",
    "\n",
    "class ProgressBarCallback(BaseCallback):\n",
    "    \"\"\"\n",
    "    :param pbar: (tqdm.pbar) Progress bar object\n",
    "    \"\"\"\n",
    "    def __init__(self, pbar):\n",
    "        super(ProgressBarCallback, self).__init__()\n",
    "        self._pbar = pbar\n",
    "\n",
    "    def _on_step(self):\n",
    "        # Update the progress bar:\n",
    "        self._pbar.n = self.n_episodes\n",
    "        self._pbar.update(0)\n",
    "\n",
    "# this callback uses the 'with' block, allowing for correct initialisation and destruction\n",
    "class ProgressBarManager(object):\n",
    "    def __init__(self, total_max_episodes): # init object with total timesteps\n",
    "        self.pbar = None\n",
    "        self.total_episodes = total_max_episodes\n",
    "        \n",
    "    def __enter__(self): # create the progress bar and callback, return the callback\n",
    "        self.pbar = tqdm(total=self.total_episodes)\n",
    "            \n",
    "        return ProgressBarCallback(self.pbar)\n",
    "\n",
    "    def __exit__(self, exc_type, exc_val, exc_tb): # close the callback\n",
    "        self.pbar.n = self.total_episodes\n",
    "        self.pbar.update(0)\n",
    "        self.pbar.close()"
   ]
  },
  {
   "cell_type": "code",
   "execution_count": 5,
   "metadata": {},
   "outputs": [
    {
     "ename": "EOFError",
     "evalue": "",
     "output_type": "error",
     "traceback": [
      "\u001b[1;31m---------------------------------------------------------------------------\u001b[0m",
      "\u001b[1;31mBrokenPipeError\u001b[0m                           Traceback (most recent call last)",
      "File \u001b[1;32mc:\\Users\\aniss\\anaconda3\\envs\\rbc\\lib\\multiprocessing\\connection.py:317\u001b[0m, in \u001b[0;36mPipeConnection._recv_bytes\u001b[1;34m(self, maxsize)\u001b[0m\n\u001b[0;32m    316\u001b[0m \u001b[39mfinally\u001b[39;00m:\n\u001b[1;32m--> 317\u001b[0m     nread, err \u001b[39m=\u001b[39m ov\u001b[39m.\u001b[39;49mGetOverlappedResult(\u001b[39mTrue\u001b[39;49;00m)\n\u001b[0;32m    318\u001b[0m     \u001b[39mif\u001b[39;00m err \u001b[39m==\u001b[39m \u001b[39m0\u001b[39m:\n",
      "\u001b[1;31mBrokenPipeError\u001b[0m: [WinError 109] The pipe has been ended",
      "\nDuring handling of the above exception, another exception occurred:\n",
      "\u001b[1;31mEOFError\u001b[0m                                  Traceback (most recent call last)",
      "\u001b[1;32mc:\\Users\\aniss\\OneDrive\\Dokumente\\Uni\\Semester4\\RBC\\RBC-Agent\\train\\self_play.ipynb Cell 5\u001b[0m in \u001b[0;36m<cell line: 1>\u001b[1;34m()\u001b[0m\n\u001b[0;32m      <a href='vscode-notebook-cell:/c%3A/Users/aniss/OneDrive/Dokumente/Uni/Semester4/RBC/RBC-Agent/train/self_play.ipynb#W4sZmlsZQ%3D%3D?line=1'>2</a>\u001b[0m n_env \u001b[39m=\u001b[39m \u001b[39m1\u001b[39m\n\u001b[0;32m      <a href='vscode-notebook-cell:/c%3A/Users/aniss/OneDrive/Dokumente/Uni/Semester4/RBC/RBC-Agent/train/self_play.ipynb#W4sZmlsZQ%3D%3D?line=2'>3</a>\u001b[0m n_episodes \u001b[39m=\u001b[39m \u001b[39m10000\u001b[39m\n\u001b[1;32m----> <a href='vscode-notebook-cell:/c%3A/Users/aniss/OneDrive/Dokumente/Uni/Semester4/RBC/RBC-Agent/train/self_play.ipynb#W4sZmlsZQ%3D%3D?line=3'>4</a>\u001b[0m env \u001b[39m=\u001b[39m SubprocVecEnv([make_env(model_dir, i, \u001b[39m0\u001b[39;49m) \u001b[39mfor\u001b[39;49;00m i \u001b[39min\u001b[39;49;00m \u001b[39mrange\u001b[39;49m(n_env)])\n\u001b[0;32m      <a href='vscode-notebook-cell:/c%3A/Users/aniss/OneDrive/Dokumente/Uni/Semester4/RBC/RBC-Agent/train/self_play.ipynb#W4sZmlsZQ%3D%3D?line=4'>5</a>\u001b[0m \u001b[39m# env = RBCEnv(model_dir=model_dir)\u001b[39;00m\n\u001b[0;32m      <a href='vscode-notebook-cell:/c%3A/Users/aniss/OneDrive/Dokumente/Uni/Semester4/RBC/RBC-Agent/train/self_play.ipynb#W4sZmlsZQ%3D%3D?line=5'>6</a>\u001b[0m env \u001b[39m=\u001b[39m Monitor(env, log_dir)\n",
      "File \u001b[1;32mc:\\Users\\aniss\\anaconda3\\envs\\rbc\\lib\\site-packages\\stable_baselines3\\common\\vec_env\\subproc_vec_env.py:111\u001b[0m, in \u001b[0;36mSubprocVecEnv.__init__\u001b[1;34m(self, env_fns, start_method)\u001b[0m\n\u001b[0;32m    108\u001b[0m     work_remote\u001b[39m.\u001b[39mclose()\n\u001b[0;32m    110\u001b[0m \u001b[39mself\u001b[39m\u001b[39m.\u001b[39mremotes[\u001b[39m0\u001b[39m]\u001b[39m.\u001b[39msend((\u001b[39m\"\u001b[39m\u001b[39mget_spaces\u001b[39m\u001b[39m\"\u001b[39m, \u001b[39mNone\u001b[39;00m))\n\u001b[1;32m--> 111\u001b[0m observation_space, action_space \u001b[39m=\u001b[39m \u001b[39mself\u001b[39;49m\u001b[39m.\u001b[39;49mremotes[\u001b[39m0\u001b[39;49m]\u001b[39m.\u001b[39;49mrecv()\n\u001b[0;32m    112\u001b[0m VecEnv\u001b[39m.\u001b[39m\u001b[39m__init__\u001b[39m(\u001b[39mself\u001b[39m, \u001b[39mlen\u001b[39m(env_fns), observation_space, action_space)\n",
      "File \u001b[1;32mc:\\Users\\aniss\\anaconda3\\envs\\rbc\\lib\\multiprocessing\\connection.py:255\u001b[0m, in \u001b[0;36m_ConnectionBase.recv\u001b[1;34m(self)\u001b[0m\n\u001b[0;32m    253\u001b[0m \u001b[39mself\u001b[39m\u001b[39m.\u001b[39m_check_closed()\n\u001b[0;32m    254\u001b[0m \u001b[39mself\u001b[39m\u001b[39m.\u001b[39m_check_readable()\n\u001b[1;32m--> 255\u001b[0m buf \u001b[39m=\u001b[39m \u001b[39mself\u001b[39;49m\u001b[39m.\u001b[39;49m_recv_bytes()\n\u001b[0;32m    256\u001b[0m \u001b[39mreturn\u001b[39;00m _ForkingPickler\u001b[39m.\u001b[39mloads(buf\u001b[39m.\u001b[39mgetbuffer())\n",
      "File \u001b[1;32mc:\\Users\\aniss\\anaconda3\\envs\\rbc\\lib\\multiprocessing\\connection.py:326\u001b[0m, in \u001b[0;36mPipeConnection._recv_bytes\u001b[1;34m(self, maxsize)\u001b[0m\n\u001b[0;32m    324\u001b[0m \u001b[39mexcept\u001b[39;00m \u001b[39mOSError\u001b[39;00m \u001b[39mas\u001b[39;00m e:\n\u001b[0;32m    325\u001b[0m     \u001b[39mif\u001b[39;00m e\u001b[39m.\u001b[39mwinerror \u001b[39m==\u001b[39m _winapi\u001b[39m.\u001b[39mERROR_BROKEN_PIPE:\n\u001b[1;32m--> 326\u001b[0m         \u001b[39mraise\u001b[39;00m \u001b[39mEOFError\u001b[39;00m\n\u001b[0;32m    327\u001b[0m     \u001b[39melse\u001b[39;00m:\n\u001b[0;32m    328\u001b[0m         \u001b[39mraise\u001b[39;00m\n",
      "\u001b[1;31mEOFError\u001b[0m: "
     ]
    }
   ],
   "source": [
    "if __name__ == '__main__':\n",
    "    n_env = 1\n",
    "    n_episodes = 10000\n",
    "    env = SubprocVecEnv([make_env(model_dir, i, 0) for i in range(n_env)])\n",
    "    # env = RBCEnv(model_dir=model_dir)\n",
    "    env = Monitor(env, log_dir)\n",
    "    eval_env = RBCEnv(model_dir=model_dir)\n",
    "    eval_env = Monitor(eval_env, log_dir)\n",
    "\n",
    "    # model = PPO.load(os.path.join(model_dir, \"best_model_gamma05\"))\n",
    "    model = PPO(CustomActorCriticPolicy, env, verbose = 1, tensorboard_log=tensorboard_dir)\n",
    "    model.save(os.path.join(model_dir, \"self_play_best_model\")) \n",
    "\n",
    "    # checkpoint_callback = CheckpointCallback(\n",
    "    # save_freq=10,\n",
    "    # save_path=checkpoint_dir,\n",
    "    # name_prefix=\"rl_model\"\n",
    "    # ) \n",
    "\n",
    "    eval_callback = EvalCallback(\n",
    "        eval_env, \n",
    "        best_model_save_path=model_dir, \n",
    "        callback_on_new_best=callback_on_new_best(),\n",
    "        log_path=log_dir, \n",
    "        eval_freq= 5000,\n",
    "        n_eval_episodes=5, \n",
    "        deterministic= True, \n",
    "        render=False)\n",
    "\n",
    "    callback_max_episodes = StopTrainingOnMaxEpisodes(max_episodes=n_episodes, verbose=1)\n",
    "\n",
    "    with ProgressBarManager(n_env * n_episodes) as callback: \n",
    "        model.learn(int(1e10), callback= [callback_max_episodes, eval_callback], tb_log_name=\"self_play_model\")\n",
    "    model.save(os.path.join(model_dir, \"final_self_play_model\"))\n",
    "    plot_results([log_dir],int(1e10), results_plotter.X_EPISODES, \"PPO RBC\")\n",
    "    # plot_curves([log_dir], results_plotter.X_EPISODES, \"PPO RBC\")\n",
    "    plt.show()"
   ]
  }
 ],
 "metadata": {
  "kernelspec": {
   "display_name": "Python 3.10.4 ('rbc')",
   "language": "python",
   "name": "python3"
  },
  "language_info": {
   "codemirror_mode": {
    "name": "ipython",
    "version": 3
   },
   "file_extension": ".py",
   "mimetype": "text/x-python",
   "name": "python",
   "nbconvert_exporter": "python",
   "pygments_lexer": "ipython3",
   "version": "3.10.4"
  },
  "orig_nbformat": 4,
  "vscode": {
   "interpreter": {
    "hash": "334571f43833167cff2a32fc3fb1a5df84c2106c1727de884da5357de05be83f"
   }
  }
 },
 "nbformat": 4,
 "nbformat_minor": 2
}
